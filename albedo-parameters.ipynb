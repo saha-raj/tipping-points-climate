{
 "cells": [
  {
   "cell_type": "code",
   "execution_count": 5,
   "metadata": {},
   "outputs": [
    {
     "data": {
      "application/vnd.jupyter.widget-view+json": {
       "model_id": "391e6471feed432f8b3d10531233ed7b",
       "version_major": 2,
       "version_minor": 0
      },
      "text/plain": [
       "interactive(children=(FloatSlider(value=0.9, description='A1', max=1.0, step=0.01), FloatSlider(value=0.8, des…"
      ]
     },
     "metadata": {},
     "output_type": "display_data"
    }
   ],
   "source": [
    "import numpy as np\n",
    "import matplotlib.pyplot as plt\n",
    "from ipywidgets import interactive, FloatSlider\n",
    "import ipywidgets as widgets\n",
    "\n",
    "\n",
    "def plot_albedo(A1=0.58, A2=0.47, T_CRIT=283, DELTA_T=18):\n",
    "    # Temperature range in Kelvin\n",
    "    T = np.linspace(223, 323, 1000)  # -50°C to 50°C\n",
    "\n",
    "    # Calculate albedo\n",
    "    albedo = A1 - 0.5 * A2 * (1 + np.tanh((T - T_CRIT) / DELTA_T))\n",
    "\n",
    "    plt.figure(figsize=(10, 6))\n",
    "    plt.plot(T, albedo)\n",
    "    plt.axvline(x=273, linestyle=':', color='black')  # Add vertical line at T=273\n",
    "    plt.grid(True)\n",
    "    plt.xlabel(\"Temperature (K)\")\n",
    "    plt.ylabel(\"Albedo\")\n",
    "    plt.title(\"Albedo vs Temperature\")\n",
    "    plt.ylim(0, 1)\n",
    "    plt.show()\n",
    "\n",
    "\n",
    "# Create interactive plot with sliders\n",
    "interactive_plot = interactive(\n",
    "    plot_albedo,\n",
    "    A1=FloatSlider(min=0, max=1, step=0.01, value=0.9, description=\"A1\"),\n",
    "    A2=FloatSlider(min=0, max=1, step=0.01, value=0.8, description=\"A2\"),\n",
    "    T_CRIT=FloatSlider(min=273, max=293, step=1, value=273, description=\"T_CRIT\"),\n",
    "    DELTA_T=FloatSlider(min=1, max=30, step=1, value=18, description=\"DELTA_T\"),\n",
    ")\n",
    "\n",
    "display(interactive_plot)"
   ]
  },
  {
   "cell_type": "code",
   "execution_count": null,
   "metadata": {},
   "outputs": [],
   "source": []
  }
 ],
 "metadata": {
  "kernelspec": {
   "display_name": "base",
   "language": "python",
   "name": "python3"
  },
  "language_info": {
   "codemirror_mode": {
    "name": "ipython",
    "version": 3
   },
   "file_extension": ".py",
   "mimetype": "text/x-python",
   "name": "python",
   "nbconvert_exporter": "python",
   "pygments_lexer": "ipython3",
   "version": "3.11.5"
  }
 },
 "nbformat": 4,
 "nbformat_minor": 2
}
